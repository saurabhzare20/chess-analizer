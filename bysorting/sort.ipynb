{
 "cells": [
  {
   "cell_type": "code",
   "execution_count": 4,
   "metadata": {},
   "outputs": [],
   "source": [
    "from utality import *\n",
    "import pandas as pd"
   ]
  },
  {
   "cell_type": "markdown",
   "metadata": {},
   "source": [
    "# Sorting and Saving a DataFrame\n",
    "\n",
    "The following Python code reads a CSV file named 'unsorted.csv' into a pandas DataFrame (`df`). It then sorts the DataFrame based on two columns: 'result' in descending order and 'moves' in ascending order. Finally, the sorted DataFrame is saved to a new CSV file named 'sorted_file2.csv' with the index included.\n"
   ]
  },
  {
   "cell_type": "code",
   "execution_count": 33,
   "metadata": {},
   "outputs": [],
   "source": [
    "\n",
    "\n",
    "\n",
    "df = pd.read_csv('unsorted.csv')\n",
    "\n",
    "\n",
    "df_sorted = df.sort_values(by=['result','moves'], ascending=[False,True])\n",
    "\n",
    "\n",
    "df_sorted.to_csv('sorted_file2.csv', index=True)\n"
   ]
  },
  {
   "cell_type": "markdown",
   "metadata": {},
   "source": [
    "# Analyzing Chess Game Moves\n",
    "\n",
    "The following Python code defines a function `get_move_details` that analyzes chess game moves based on a given starting string. The function filters a DataFrame (`df`) of chess games to find moves that start with a specified string (`gamestring`).\n"
   ]
  },
  {
   "cell_type": "code",
   "execution_count": 35,
   "metadata": {},
   "outputs": [],
   "source": [
    "\n",
    "\n",
    "def get_move_details(gamestring, df):\n",
    "    \n",
    "    filtered_df = df[df['moves'].str.startswith(gamestring)]\n",
    "    \n",
    "\n",
    "   \n",
    "    winning_moves_df = filtered_df[filtered_df['result'] == 1]\n",
    "    losing_moves_df = filtered_df[filtered_df['result'] == 0]\n",
    "\n",
    "   \n",
    "    print(f\"Details for moves starting with {gamestring} (Winning Lines):\")\n",
    "    print(f\"Number of winning lines: {len(winning_moves_df)}\")\n",
    "    \n",
    "    if not winning_moves_df.empty:\n",
    "        best_winning_move = winning_moves_df.iloc[0]['moves']\n",
    "        print(f\"Next best move for winning lines: {best_winning_move}\")\n",
    "    \n",
    "    \n",
    "    print(f\"\\nDetails for moves starting with {gamestring} (Losing Lines):\")\n",
    "    print(f\"Number of losing lines: {len(losing_moves_df)}\")\n",
    "    \n",
    "    if not losing_moves_df.empty:\n",
    "        best_losing_move = losing_moves_df.iloc[0]['moves']\n",
    "        print(f\"Next best move for losing lines: {best_losing_move}\")\n",
    "\n",
    "\n",
    "\n"
   ]
  },
  {
   "cell_type": "code",
   "execution_count": 40,
   "metadata": {},
   "outputs": [
    {
     "name": "stdout",
     "output_type": "stream",
     "text": [
      "Original 'input.csv' CSV Data: \n",
      "\n",
      "      remove                                              moves  result\n",
      "0        359  1.Nf3 Nf6 2.c4 b6 3.g3 c5 4.Bg2 Bb7 5.O-O e6 6...     1.0\n",
      "1        283  1.Nf3 Nf6 2.c4 c5 3.Nc3 Nc6 4.e3 e6 5.d4 d5 6....     1.0\n",
      "2        280  1.Nf3 Nf6 2.c4 c5 3.Nc3 Nc6 4.g3 d5 5.d4 dxc4 ...     1.0\n",
      "3        382  1.Nf3 Nf6 2.c4 c5 3.Nc3 b6 4.e4 Nc6 5.d4 cxd4 ...     1.0\n",
      "4        286  1.Nf3 Nf6 2.c4 c5 3.Nc3 b6 4.e4 d6 5.d4 cxd4 6...     1.0\n",
      "...      ...                                                ...     ...\n",
      "1125     520  1.e4 g6 2.d4 d6 3.Nc3 Bg7 4.Be3 a6 5.h3 Nd7 6....     0.0\n",
      "1126     794  1.e4 g6 2.d4 d6 3.Nc3 Bg7 4.Be3 a6 5.h3 Nd7 6....     0.0\n",
      "1127     168  1.e4 g6 2.d4 d6 3.Nf3 Bg7 4.Bc4 c6 5.Bb3 a5 6....     0.0\n",
      "1128    1023  1.e4 g6 2.d4 e6 3.Nf3 Ne7 4.h4 h6 5.Bf4 Bg7 6....     0.0\n",
      "1129      25  1.g3 d6 2.Bg2 c6 3.c4 g6 4.Nc3 Bg7 5.d4 Nf6 6....     0.0\n",
      "\n",
      "[1130 rows x 3 columns]\n",
      "\n",
      "CSV Data after deleting the column 'year':\n",
      "\n",
      "                                                  moves  result\n",
      "0     1.Nf3 Nf6 2.c4 b6 3.g3 c5 4.Bg2 Bb7 5.O-O e6 6...     1.0\n",
      "1     1.Nf3 Nf6 2.c4 c5 3.Nc3 Nc6 4.e3 e6 5.d4 d5 6....     1.0\n",
      "2     1.Nf3 Nf6 2.c4 c5 3.Nc3 Nc6 4.g3 d5 5.d4 dxc4 ...     1.0\n",
      "3     1.Nf3 Nf6 2.c4 c5 3.Nc3 b6 4.e4 Nc6 5.d4 cxd4 ...     1.0\n",
      "4     1.Nf3 Nf6 2.c4 c5 3.Nc3 b6 4.e4 d6 5.d4 cxd4 6...     1.0\n",
      "...                                                 ...     ...\n",
      "1125  1.e4 g6 2.d4 d6 3.Nc3 Bg7 4.Be3 a6 5.h3 Nd7 6....     0.0\n",
      "1126  1.e4 g6 2.d4 d6 3.Nc3 Bg7 4.Be3 a6 5.h3 Nd7 6....     0.0\n",
      "1127  1.e4 g6 2.d4 d6 3.Nf3 Bg7 4.Bc4 c6 5.Bb3 a5 6....     0.0\n",
      "1128  1.e4 g6 2.d4 e6 3.Nf3 Ne7 4.h4 h6 5.Bf4 Bg7 6....     0.0\n",
      "1129  1.g3 d6 2.Bg2 c6 3.c4 g6 4.Nc3 Bg7 5.d4 Nf6 6....     0.0\n",
      "\n",
      "[1130 rows x 2 columns]\n"
     ]
    }
   ],
   "source": []
  },
  {
   "cell_type": "code",
   "execution_count": 45,
   "metadata": {},
   "outputs": [
    {
     "name": "stdout",
     "output_type": "stream",
     "text": [
      "Details for moves starting with 1.e4 e5 2.Nc3 (Winning Lines):\n",
      "Number of winning lines: 2\n",
      "Next best move for winning lines: 1.e4 e5 2.Nc3 Nc6 3.Bc4 Bc5 4.d3 Na5 5.Nf3 Nxc4 6.dxc4 d6 7.O-O Ne7 8.Na4 b6 9.a3 a5 10.c3 Bd7 11.b4 Bxa4 12.Qxa4+ b5 13.Qb3 axb4 14.cxb4 bxc4 15.Qxc4 Bb6 16.Rd1 Ng6 17.a4 O-O 18.a5 Ba7 19.Bd2 Kh8 20.Rac1 Rc8 21.Be3 Bxe3 22.fxe3 Nh4 23.Qe2 f5 24.exf5 Nxf5 25.e4 Ne7 26.Nxe5 Qe8 27.Nf3 Ng6 28.g3 Qe6 29.Nd4 Qh3 30.Rf1 Ne5 31.a6 h5 32.a7 h4 33.Rxf8+ Rxf8 34.Qh5+ Kg8 35.Qxh4 Qd7 36.Qh5 c5 37.Nf5 Qxa7 38.bxc5 dxc5 39.Kg2 Qa2+ 40.Kh3 Qe6 41.Rxc5 g6 42.Rxe5 Qxe5 43.Nh6+ Kh8 44.Qxe5+\n",
      "\n",
      "Details for moves starting with 1.e4 e5 2.Nc3 (Losing Lines):\n",
      "Number of losing lines: 3\n",
      "Next best move for losing lines: 1.e4 e5 2.Nc3 Nc6 3.Bc4 Nf6 4.d3 Na5 5.Bb3 Nxb3 6.axb3 d5 7.exd5 Nxd5 8.Qh5 Nb4 9.Qxe5+ Be7 10.Qe2 O-O 11.Be3 Re8 12.Nf3 a5 13.h3 b6 14.O-O Bb7 15.Rac1 Bf6 16.d4 Qd7 17.Rfd1 Rad8 18.Qb5 Qc8 19.Qh5 h6 20.Qg4 Qxg4 21.hxg4 Rd7 22.Rd2 g5 23.Nd1 Rdd8 24.c3 Nd5 25.Nh2 Kg7 26.Nf1 Kg6 27.f3 h5 28.gxh5+ Kxh5 29.Bf2 Kg6 30.Nde3 Be7 31.Nxd5 Bxd5 32.c4 Be6 33.d5 Bb4 34.Rdd1 Bd7 35.Ne3 f5 36.Nc2 Bd6 37.Nd4 g4 38.g3 gxf3 39.Nxf3 Re2 40.Rd2 Rxd2 41.Nxd2 Re8 42.Rd1 f4 43.gxf4 Bxf4 44.Nf3 Re2 45.Bd4 Bg4 46.Rf1 Kf5 47.d6 cxd6 48.Bxb6 Bxf3 49.Rxf3 Rxb2 50.Bd4 Rb1+ 51.Kf2 Ke4 52.Bg7 Rh1 53.Rc3 Rh2+ 54.Kf1 Be3 55.c5 dxc5 56.Rc4+ Kf3\n"
     ]
    }
   ],
   "source": [
    "df = pd.read_csv('sorted_file1.csv')\n",
    "input_move = \"1.e4 e5 2.Nc3\"\n",
    "get_move_details(input_move, df)\n"
   ]
  },
  {
   "cell_type": "code",
   "execution_count": null,
   "metadata": {},
   "outputs": [],
   "source": []
  },
  {
   "cell_type": "markdown",
   "metadata": {},
   "source": [
    "# Finding the Best Chess Game Line\n",
    "\n",
    "The following Python code defines a function `find_best_line` that searches for the best chess game line based on a given main game string, an input move, a DataFrame (`df`), and a toggle value (`toggle`)."
   ]
  },
  {
   "cell_type": "code",
   "execution_count": 46,
   "metadata": {},
   "outputs": [],
   "source": [
    "\n",
    "\n",
    "def find_best_line(main_game_string, input_move, df,toggle):\n",
    "    \n",
    "          \n",
    "         \n",
    "    \n",
    "    full_game_string = main_game_string + ' ' + input_move\n",
    "    if main_game_string=='':\n",
    "        full_game_string=input_move\n",
    "    print( full_game_string)\n",
    "    \n",
    "    filtered_df = df[df['moves'].str.startswith(full_game_string)]\n",
    "\n",
    "   \n",
    "    if toggle:\n",
    "      winning_moves_df = filtered_df[filtered_df['result'] == 1]\n",
    "    else:\n",
    "       winning_moves_df = filtered_df[filtered_df['result'] == 0] \n",
    "   \n",
    "    if not winning_moves_df.empty:\n",
    "        \n",
    "        winning_moves_df[winning_moves_df['moves'].str.count('.') % 2 == 0]\n",
    "        best_line = winning_moves_df['moves'].value_counts().idxmax()\n",
    "        \n",
    "             \n",
    "        return best_line\n",
    "    elif  winning_moves_df.empty :\n",
    "        winning_moves_df = filtered_df[filtered_df['result'] == 0.5]\n",
    "        if not winning_moves_df.empty:\n",
    "           return winning_moves_df['moves'].value_counts().idxmax()\n",
    "    else:\n",
    "        return \"No winning line found for the input.\"\n",
    "\n",
    "\n",
    "\n"
   ]
  },
  {
   "cell_type": "code",
   "execution_count": 47,
   "metadata": {},
   "outputs": [
    {
     "name": "stdout",
     "output_type": "stream",
     "text": [
      "1.e4 e5 2.Nc3\n",
      "The best line after adding '2.Nc3' is: 1.e4 e5 2.Nc3 Nc6 3.Bc4 Nf6 4.d3 Na5 5.Bb3 Nxb3 6.axb3 d5 7.exd5 Nxd5 8.Qh5 Nb4 9.Qxe5+ Be7 10.Qe2 O-O 11.Be3 Re8 12.Nf3 a5 13.h3 b6 14.O-O Bb7 15.Rac1 Bf6 16.d4 Qd7 17.Rfd1 Rad8 18.Qb5 Qc8 19.Qh5 h6 20.Qg4 Qxg4 21.hxg4 Rd7 22.Rd2 g5 23.Nd1 Rdd8 24.c3 Nd5 25.Nh2 Kg7 26.Nf1 Kg6 27.f3 h5 28.gxh5+ Kxh5 29.Bf2 Kg6 30.Nde3 Be7 31.Nxd5 Bxd5 32.c4 Be6 33.d5 Bb4 34.Rdd1 Bd7 35.Ne3 f5 36.Nc2 Bd6 37.Nd4 g4 38.g3 gxf3 39.Nxf3 Re2 40.Rd2 Rxd2 41.Nxd2 Re8 42.Rd1 f4 43.gxf4 Bxf4 44.Nf3 Re2 45.Bd4 Bg4 46.Rf1 Kf5 47.d6 cxd6 48.Bxb6 Bxf3 49.Rxf3 Rxb2 50.Bd4 Rb1+ 51.Kf2 Ke4 52.Bg7 Rh1 53.Rc3 Rh2+ 54.Kf1 Be3 55.c5 dxc5 56.Rc4+ Kf3\n"
     ]
    }
   ],
   "source": [
    "df = pd.read_csv('sorted_file1.csv')\n",
    "\n",
    "\n",
    "main_game_string = \"1.e4 e5\"\n",
    "\n",
    "\n",
    "input_move = \"2.Nc3\"\n",
    "\n",
    "\n",
    "best_line = find_best_line(main_game_string, input_move, df,False)\n",
    "\n",
    "print(f\"The best line after adding '{input_move}' is: {best_line}\")"
   ]
  },
  {
   "cell_type": "markdown",
   "metadata": {},
   "source": [
    "# Chess Game Simulation Function\n",
    "\n",
    "The following Python code defines a function `game` that simulates a chess game by taking input moves alternately from the user and finding the best possible moves using a pre-trained model. The game progresses based on the current game string, toggle value, and user input."
   ]
  },
  {
   "cell_type": "code",
   "execution_count": 66,
   "metadata": {},
   "outputs": [],
   "source": [
    "def game(index ,main_game_string,toggle):\n",
    "    chessboard = [[5,3,4,9,10,4,3,5],\n",
    "         [1,1,1,1,1,1,1,1],\n",
    "         [0,0,0,0,0,0,0,0],\n",
    "         [0,0,0,0,0,0,0,0],\n",
    "         [0,0,0,0,0,0,0,0],\n",
    "         [0,0,0,0,0,0,0,0],\n",
    "         [-1,-1,-1,-1,-1,-1,-1,-1],\n",
    "         [-5,-3,-4,-9,-10,-4,-3,-5]\n",
    "\n",
    "         \n",
    "         ]\n",
    "\n",
    "   \n",
    "    \n",
    "    if toggle:\n",
    "        input_move= str(input(\"enter the whites  move\"))\n",
    "\n",
    "        best_line =find_best_line(main_game_string, input_move, df,not toggle)\n",
    "        if not best_line:\n",
    "            return \"EITHER WRONG MOVE ENTRE OR NO GAMES FOUND\",main_game_string\n",
    "        \n",
    "        main_game_array= split_string_into_substrings(main_game_string + ' ' + input_move)\n",
    "        best_line_array = split_string_into_substrings(best_line)\n",
    "        print(best_line_array[len(main_game_array)])\n",
    "        if main_game_string=='':\n",
    "           main_game_string= '' + input_move +' ' +best_line_array[len(main_game_array)]\n",
    "        else:\n",
    "            main_game_string=  main_game_string + ' ' + input_move +' ' +best_line_array[len(main_game_array)]  \n",
    "\n",
    "        print(main_game_string)\n",
    "        boards=allboards(chessboard,main_game_string,True)\n",
    "        print(\"board after user move \")\n",
    "        for row in boards[-2]:\n",
    "         print(row)\n",
    "        print(\"----------------------------------\")   \n",
    "    \n",
    "        \n",
    "        print(\"board after best possible move \")\n",
    "        for row in boards[-1]:\n",
    "         print(row)\n",
    "        print(\"----------------------------------\")  \n",
    "        \n",
    "        get_move_details(main_game_string, df)\n",
    "        return \"ok\",main_game_string\n",
    "\n",
    "\n",
    "        \n",
    "        \n",
    "    else:\n",
    "        input_move= str(input(\"enter the blacks move\"))\n",
    "        best_line =find_best_line(main_game_string, input_move, df, not toggle)\n",
    "        if not best_line:\n",
    "            return \"EITHER WRONG MOVE ENTRE OR NO GAMES FOUND\",main_game_string\n",
    "        main_game_array= split_string_into_substrings(main_game_string + ' ' + input_move)\n",
    "        best_line_array = split_string_into_substrings(best_line)\n",
    "        \n",
    "        print(best_line_array[len(main_game_array)])\n",
    "        \n",
    "        \n",
    "        main_game_string=  main_game_string + ' ' + input_move +' '+best_line_array[len(main_game_array)]  \n",
    "        print(main_game_string)\n",
    "        boards=allboards(chessboard,main_game_string,True)\n",
    "        print(\"board after user move \")\n",
    "        print(boards[-2])\n",
    "        print(\"board after best possible move \")\n",
    "        print(boards[-1])\n",
    "        get_move_details(main_game_string, df)\n",
    "        return \"ok\",main_game_string\n",
    "        "
   ]
  },
  {
   "cell_type": "code",
   "execution_count": 67,
   "metadata": {},
   "outputs": [
    {
     "name": "stdout",
     "output_type": "stream",
     "text": [
      "1.e4 e5\n",
      "Nf3\n",
      "1.e4 e5 Nf3\n",
      "1\n",
      "2\n",
      "3\n",
      "board after user move \n",
      "[[5, 3, 4, 9, 10, 4, 3, 5], [1, 1, 1, 1, 0, 1, 1, 1], [0, 0, 0, 0, 0, 0, 0, 0], [0, 0, 0, 0, 1, 0, 0, 0], [0, 0, 0, 0, -1, 0, 0, 0], [0, 0, 0, 0, 0, 0, 0, 0], [-1, -1, -1, -1, 0, -1, -1, -1], [-5, -3, -4, -9, -10, -4, -3, -5]]\n",
      "board after best possible move \n",
      "[[5, 3, 4, 9, 10, 4, 0, 5], [1, 1, 1, 1, 0, 1, 1, 1], [0, 0, 0, 0, 0, 3, 0, 0], [0, 0, 0, 0, 1, 0, 0, 0], [0, 0, 0, 0, -1, 0, 0, 0], [0, 0, 0, 0, 0, 0, 0, 0], [-1, -1, -1, -1, 0, -1, -1, -1], [-5, -3, -4, -9, -10, -4, -3, -5]]\n",
      "Details for moves starting with 1.e4 e5 Nf3 (Winning Lines):\n",
      "Number of winning lines: 0\n",
      "\n",
      "Details for moves starting with 1.e4 e5 Nf3 (Losing Lines):\n",
      "Number of losing lines: 0\n"
     ]
    },
    {
     "data": {
      "text/plain": [
       "('ok', '1.e4 e5 Nf3')"
      ]
     },
     "execution_count": 67,
     "metadata": {},
     "output_type": "execute_result"
    }
   ],
   "source": [
    "game(1,'1.e4',False)"
   ]
  },
  {
   "cell_type": "markdown",
   "metadata": {},
   "source": [
    "# Chess Game Start Function\n",
    "\n",
    "The following Python code defines a function `start_a_game` that initiates a chess game simulation. The function uses a loop to alternate between player turns, taking input moves or finding the best possible moves. The game continues until a termination condition is met.\n",
    "\n",
    "\n",
    "Initialization:\n",
    "\n",
    "The function initializes parameters such as index, main_game_string, ans, and toggle to start the game.\n",
    "Game Loop:\n",
    "\n",
    "The function enters a loop that continues as long as the variable ans is equal to \"ok.\" The loop alternates between player turns.\n",
    "Player Turns:\n",
    "\n",
    "In each iteration, the function calls the game function to simulate a player's turn, updating the game state and toggle value accordingly.\n",
    "Toggle Switching:\n",
    "\n",
    "The toggle value is switched to alternate between player turns.\n",
    "Loop Termination:\n",
    "\n",
    "The loop continues until the ans variable is no longer equal to \"ok,\" indicating the termination of the game."
   ]
  },
  {
   "cell_type": "code",
   "execution_count": 72,
   "metadata": {},
   "outputs": [],
   "source": [
    "def start_a_game():\n",
    "    index=1\n",
    "    main_game_string=''\n",
    "    ans=\"ok\"\n",
    "    toggle=True\n",
    "    while ans==\"ok\":\n",
    "     if toggle:\n",
    "        ans,main_game_string= game(index,main_game_string,toggle)\n",
    "        toggle= not toggle \n",
    "        index=index+1\n",
    "       \n",
    "\n",
    "     else:\n",
    "        ans,main_game_string =  game(index,main_game_string,toggle)\n",
    "        toggle= not toggle \n",
    "        index=index+1 \n",
    "         \n"
   ]
  },
  {
   "cell_type": "code",
   "execution_count": 74,
   "metadata": {},
   "outputs": [],
   "source": []
  },
  {
   "cell_type": "code",
   "execution_count": 76,
   "metadata": {},
   "outputs": [
    {
     "name": "stdout",
     "output_type": "stream",
     "text": [
      "1.e4\n",
      "e5\n",
      "1.e4 e5\n",
      "1\n",
      "2\n",
      "board after user move \n",
      "[5, 3, 4, 9, 10, 4, 3, 5]\n",
      "[1, 1, 1, 1, 0, 1, 1, 1]\n",
      "[0, 0, 0, 0, 0, 0, 0, 0]\n",
      "[0, 0, 0, 0, 1, 0, 0, 0]\n",
      "[0, 0, 0, 0, 0, 0, 0, 0]\n",
      "[0, 0, 0, 0, 0, 0, 0, 0]\n",
      "[-1, -1, -1, -1, -1, -1, -1, -1]\n",
      "[-5, -3, -4, -9, -10, -4, -3, -5]\n",
      "----------------------------------\n",
      "board after best possible move \n",
      "[5, 3, 4, 9, 10, 4, 3, 5]\n",
      "[1, 1, 1, 1, 0, 1, 1, 1]\n",
      "[0, 0, 0, 0, 0, 0, 0, 0]\n",
      "[0, 0, 0, 0, 1, 0, 0, 0]\n",
      "[0, 0, 0, 0, -1, 0, 0, 0]\n",
      "[0, 0, 0, 0, 0, 0, 0, 0]\n",
      "[-1, -1, -1, -1, 0, -1, -1, -1]\n",
      "[-5, -3, -4, -9, -10, -4, -3, -5]\n",
      "----------------------------------\n",
      "Details for moves starting with 1.e4 e5 (Winning Lines):\n",
      "Number of winning lines: 147\n",
      "Next best move for winning lines: 1.e4 e5 2.Bc4 Nf6 3.Qf3 Nc6 4.Ne2 Be7 5.d3 d6 6.h3 Na5 7.Nbc3 c6 8.g4 Nxc4 9.dxc4 Be6 10.g5 Nd7 11.b3 Bxg5 12.Bxg5 Qxg5 13.Rg1 Qf6 14.Qd3 O-O-O 15.Qxd6 Bxh3 16.Qa3 Kb8 17.O-O-O h5 18.Rd3 Be6 19.Qd6+ Ka8 20.Rgd1 h4 21.f4 exf4 22.Nxf4 Nb8 23.Nxe6 fxe6 24.Qc7 Rxd3 25.Rxd3 h3 26.Qh2 Qg5+ 27.Kb2 Qg2 28.Qxg2 hxg2 29.Rg3 Rh2 30.Rxg7 a6 31.Na4 Nd7 32.c5 Kb8 33.b4 Kc8 34.Nb6+ Nxb6 35.cxb6 e5 36.Kb3 Kd8 37.c3 Ke8 38.Kc4 Kf8 39.Rg5 Kf7 40.Kc5 Kf6 41.Rg3 Ke6 42.c4 Ke7 43.a4 Ke6 44.a5 Ke7 45.b5 cxb5 46.cxb5 g1=Q+ 47.Rxg1 Rc2+ 48.Kd5 axb5 49.Rg7+ Kf6 50.Rxb7 Ra2 51.Ra7 b4 52.b7\n",
      "\n",
      "Details for moves starting with 1.e4 e5 (Losing Lines):\n",
      "Number of losing lines: 63\n",
      "Next best move for losing lines: 1.e4 e5 2.Bc4 Nf6 3.d3 c6 4.Nf3 d5 5.Bb3 a5 6.a3 Bd6 7.exd5 Nxd5 8.O-O O-O 9.Re1 Bg4 10.Nbd2 Nd7 11.h3 Bh5 12.Ne4 Qc7 13.Ng3 Bg6 14.Nh4 Nc5 15.Ba2 Ne6 16.Nxg6 hxg6 17.h4 Rae8 18.Ne4 f5 19.Ng5 Nxg5 20.Bxg5 Bc5 21.c3 Qf7 22.Qd2 a4 23.Qc2 e4 24.Qxa4 b5 25.Qc2 Kh8 26.b4 Ba7 27.c4 bxc4 28.dxc4 Nf6 29.c5 Qc7 30.g3 Bb8 31.Rad1 Qc8 32.Qd2 f4 33.Bxf4 Qh3 34.f3 exf3 35.Qh2 Qxh2+ 36.Kxh2 Ng4+ 37.Kh1 Nf2+ 38.Kg1 Nxd1 39.Rxd1 Bxf4 40.gxf4 Re2 41.Bc4 Rg2+ 42.Kf1 Rxf4 43.Rd8+ Kh7 44.Bg8+ Kh6 45.Bd5 g5 46.hxg5+ Kxg5 47.Bxc6 Rc2 48.Rd3 Kg4\n",
      "1.e4 e5 \n",
      "Nf3\n",
      "1.e4 e5  Nf3\n",
      "1\n",
      "2\n",
      "3\n",
      "board after user move \n",
      "[[5, 3, 4, 9, 10, 4, 3, 5], [1, 1, 1, 1, 0, 1, 1, 1], [0, 0, 0, 0, 0, 0, 0, 0], [0, 0, 0, 0, 1, 0, 0, 0], [0, 0, 0, 0, -1, 0, 0, 0], [0, 0, 0, 0, 0, 0, 0, 0], [-1, -1, -1, -1, 0, -1, -1, -1], [-5, -3, -4, -9, -10, -4, -3, -5]]\n",
      "board after best possible move \n",
      "[[5, 3, 4, 9, 10, 4, 0, 5], [1, 1, 1, 1, 0, 1, 1, 1], [0, 0, 0, 0, 0, 3, 0, 0], [0, 0, 0, 0, 1, 0, 0, 0], [0, 0, 0, 0, -1, 0, 0, 0], [0, 0, 0, 0, 0, 0, 0, 0], [-1, -1, -1, -1, 0, -1, -1, -1], [-5, -3, -4, -9, -10, -4, -3, -5]]\n",
      "Details for moves starting with 1.e4 e5  Nf3 (Winning Lines):\n",
      "Number of winning lines: 0\n",
      "\n",
      "Details for moves starting with 1.e4 e5  Nf3 (Losing Lines):\n",
      "Number of losing lines: 0\n",
      "1.e4 e5  Nf3 dfcvgb\n"
     ]
    }
   ],
   "source": [
    "start_a_game()"
   ]
  }
 ],
 "metadata": {
  "kernelspec": {
   "display_name": "Python 3",
   "language": "python",
   "name": "python3"
  },
  "language_info": {
   "codemirror_mode": {
    "name": "ipython",
    "version": 3
   },
   "file_extension": ".py",
   "mimetype": "text/x-python",
   "name": "python",
   "nbconvert_exporter": "python",
   "pygments_lexer": "ipython3",
   "version": "3.10.11"
  }
 },
 "nbformat": 4,
 "nbformat_minor": 2
}
